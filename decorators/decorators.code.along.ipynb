{
 "cells": [
  {
   "cell_type": "code",
   "execution_count": 1,
   "id": "43dc3efa",
   "metadata": {},
   "outputs": [
    {
     "name": "stdout",
     "output_type": "stream",
     "text": [
      "Welcome to our shop!\n",
      "Shopkeeper says: Welcome to our shop!\n"
     ]
    }
   ],
   "source": [
    "def greet_customer():\n",
    "    return 'Welcome to our shop!'\n",
    "\n",
    "# You can assign fucntions to variables\n",
    "my_greeting = greet_customer\n",
    "print(my_greeting()) \n",
    "\n",
    "# You can pass functions as arguments\n",
    "def use_greeting(greeting_func):\n",
    "    return f'Shopkeeper says: {greeting_func()}'\n",
    "\n",
    "print(use_greeting(greet_customer))"
   ]
  },
  {
   "cell_type": "markdown",
   "id": "37242f52",
   "metadata": {},
   "source": [
    "**Let's create our first decorator**"
   ]
  },
  {
   "cell_type": "code",
   "execution_count": 5,
   "id": "9890ee81",
   "metadata": {},
   "outputs": [],
   "source": [
    "def add_nigerian_politeness(original_function):\n",
    "    \"\"\"This decorator adds Nigerian politeness to any greeting\"\"\"\n",
    "\n",
    "    def wrapper():\n",
    "        result = original_function()\n",
    "        return f\"Good morning ooo! {result}, How is family?\"\n",
    "    return wrapper\n",
    "\n",
    "# Original simple greeting\n",
    "def basic_greeting():\n",
    "    return \"Hello\""
   ]
  },
  {
   "cell_type": "code",
   "execution_count": 3,
   "id": "cca936cc",
   "metadata": {},
   "outputs": [
    {
     "name": "stdout",
     "output_type": "stream",
     "text": [
      "Good morning ooo! Hello, How is family?\n"
     ]
    }
   ],
   "source": [
    "# Apply the decorator manually\n",
    "polite_greeting = add_nigerian_politeness(basic_greeting)\n",
    "print(polite_greeting())"
   ]
  },
  {
   "cell_type": "code",
   "execution_count": 4,
   "id": "21b92bf9",
   "metadata": {},
   "outputs": [
    {
     "name": "stdout",
     "output_type": "stream",
     "text": [
      "Good morning ooo! Welcome to my provision store, How is family?\n"
     ]
    }
   ],
   "source": [
    "# Using the @ symbol (syntactic sugar)\n",
    "@add_nigerian_politeness\n",
    "def shop_greeting():\n",
    "    return \"Welcome to my provision store\"\n",
    "\n",
    "print(shop_greeting())"
   ]
  },
  {
   "cell_type": "markdown",
   "id": "32238a27",
   "metadata": {},
   "source": [
    "**This is what we did**"
   ]
  },
  {
   "cell_type": "markdown",
   "id": "49a2a9b9",
   "metadata": {},
   "source": [
    "- We created a decorator function that takes another function as input\n",
    "- Inside the decorator, we defined a wrapper function that adds extra behavior\n",
    "- The wrapper calls the original function and enhances its result\n",
    "- We return the wrapper function\n",
    "- The @ symbol is just a shortcut for applying the decorator"
   ]
  },
  {
   "cell_type": "markdown",
   "id": "9010fca4",
   "metadata": {},
   "source": [
    "_more example_2\n"
   ]
  },
  {
   "cell_type": "code",
   "execution_count": 6,
   "id": "094b407c",
   "metadata": {},
   "outputs": [],
   "source": [
    "def add_nigerian_time_greeting(time_of_day):\n",
    "    \"\"\"Decorator that adds appropriate Nigerian greeting based on time\"\"\"\n",
    "    def decorator(original_function):\n",
    "        def wrapper():\n",
    "            if time_of_day == 'morning':\n",
    "                greeting = 'Good morning ooo!'\n",
    "            elif time_of_day == 'afternoon':\n",
    "                greeting = 'Good afternoon!'\n",
    "            elif time_of_day == 'evening':\n",
    "                greeting = 'Good evening ooo!'\n",
    "            else:\n",
    "                greeting = 'How far!'\n",
    "\n",
    "            result = original_function()\n",
    "            return f'{greeting} {result}'\n",
    "        return wrapper\n",
    "    return decorator"
   ]
  },
  {
   "cell_type": "code",
   "execution_count": null,
   "id": "82907d6a",
   "metadata": {},
   "outputs": [],
   "source": [
    "# Using the decorator with different times\n",
    "@add_nigerian_time_greeting('morning')\n",
    "def market_greeting():\n",
    "    return \"Welcome to our shop. How can we help you today?\""
   ]
  },
  {
   "cell_type": "code",
   "execution_count": null,
   "id": "8ef0d144",
   "metadata": {},
   "outputs": [],
   "source": [
    "@add_nigerian_time_greeting(\"evening\")\n",
    "def restaurant_greeting():\n",
    "    return \"Welcome to our restaurant. What would you like to eat?\""
   ]
  }
 ],
 "metadata": {
  "kernelspec": {
   "display_name": "my_venv",
   "language": "python",
   "name": "python3"
  },
  "language_info": {
   "codemirror_mode": {
    "name": "ipython",
    "version": 3
   },
   "file_extension": ".py",
   "mimetype": "text/x-python",
   "name": "python",
   "nbconvert_exporter": "python",
   "pygments_lexer": "ipython3",
   "version": "3.13.8"
  }
 },
 "nbformat": 4,
 "nbformat_minor": 5
}
