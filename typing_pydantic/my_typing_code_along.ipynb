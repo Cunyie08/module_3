{
 "cells": [
  {
   "cell_type": "markdown",
   "id": "7abef694",
   "metadata": {},
   "source": [
    "### **Python Typing** "
   ]
  },
  {
   "cell_type": "markdown",
   "id": "ce98456d",
   "metadata": {},
   "source": [
    "Typing deals with data types like int, float, bool, str -these are the basic or primitive types.\n",
    "and also data structures like liast, tuple, dict, set - these are te collection types.\n",
    "\n",
    "\n",
    "Now, typing is a system that lets you explicitly state what types( or combination of types) youe variables, function arguments and return values should be.\n",
    "\n",
    "But you need to know that typing extends a bit more. it is more about describing the shape if your data and how it flows through your program."
   ]
  },
  {
   "cell_type": "code",
   "execution_count": 181,
   "id": "49c4a768",
   "metadata": {},
   "outputs": [],
   "source": [
    "def get_fellow_names(fellow: list[str]) -> list[str]:\n",
    "    return fellow"
   ]
  },
  {
   "cell_type": "markdown",
   "id": "7626915f",
   "metadata": {},
   "source": [
    "`(fellow: list[str])` - type of input the function should accept.\n",
    "\n",
    "`-> list[str]` - type of output you should expect."
   ]
  },
  {
   "cell_type": "markdown",
   "id": "90cc5bc3",
   "metadata": {},
   "source": [
    "The function is saying that fellow must be a list, not just any list by a list of strings.\n",
    "\n",
    "Here, we would understand that  typing helps to add precision and intent. You are not just saying  that this is a list - you are saying, this is a list of students names.\n",
    "\n",
    "Think of data types as ingredients(e.g, int, str, list)\n",
    "and typing as the recipe - it tells us how those ingredients should fit togeter and flow through our program. \n",
    "\n",
    "So in summary, typing is about using data types and data structure to define rules nad expectations for our program."
   ]
  },
  {
   "cell_type": "markdown",
   "id": "207f00f8",
   "metadata": {},
   "source": [
    "`names: list[str] = [\"Esther\", \"Peter\", \"David\"]`\n",
    "- Meaning that every value in the list should be strings\n",
    "\n",
    "so the function will not accept this\n",
    "\n",
    "`names = [\"Esther\", 22, True]`\n",
    "The reasom is because it mixes different types(str, int, bool)\n",
    "\n"
   ]
  },
  {
   "cell_type": "code",
   "execution_count": 182,
   "id": "7da61153",
   "metadata": {},
   "outputs": [],
   "source": [
    "def get_average(name: str, scores:list[float]) -> float:\n",
    "    average_score = sum(scores)/len(scores)\n",
    "    print(f\"{name}'s average score is {average_score}\")\n",
    "    return average_score\n"
   ]
  },
  {
   "cell_type": "markdown",
   "id": "006045a6",
   "metadata": {},
   "source": [
    "`name: str` - The parameter `name` must be a string\n",
    "\n",
    "`scores: list[int]` - The argument `scores` must be a list containing integers.\n",
    "\n",
    "-> float - The function must return a floating point number\n"
   ]
  },
  {
   "cell_type": "code",
   "execution_count": 183,
   "id": "79fb35bc",
   "metadata": {},
   "outputs": [],
   "source": [
    "def greet(name: str) -> None:\n",
    "    print(f\"Hello, {name}\")"
   ]
  },
  {
   "cell_type": "markdown",
   "id": "eb1a764a",
   "metadata": {},
   "source": [
    "This function `prints` something, but it doesn’t return anything with a return statement.\n",
    "So its “return type” is `None`."
   ]
  },
  {
   "cell_type": "markdown",
   "id": "dba024cb",
   "metadata": {},
   "source": [
    "In Python, when a function has no `return` statement, or when it ends without returning a value,\n",
    "Python automatically returns `None` under the hood."
   ]
  },
  {
   "cell_type": "code",
   "execution_count": 184,
   "id": "092ac3ee",
   "metadata": {},
   "outputs": [],
   "source": [
    "def add(a: int, b: int) -> int:\n",
    "    return a + b"
   ]
  },
  {
   "cell_type": "code",
   "execution_count": 185,
   "id": "e26a130c",
   "metadata": {},
   "outputs": [
    {
     "data": {
      "text/plain": [
       "3.8"
      ]
     },
     "execution_count": 185,
     "metadata": {},
     "output_type": "execute_result"
    }
   ],
   "source": [
    "add(1.0, 2.8)"
   ]
  },
  {
   "cell_type": "markdown",
   "id": "53043758",
   "metadata": {},
   "source": [
    "**Typing module**"
   ]
  },
  {
   "cell_type": "markdown",
   "id": "e564870a",
   "metadata": {},
   "source": [
    "The typing module is part of Python’s standard library.\n",
    "\n",
    "It provides tools called **type hints** that let you describe what _kind of data_ your variables, functions, and classes work with especially when things get more complicated."
   ]
  },
  {
   "cell_type": "markdown",
   "id": "ccdedf24",
   "metadata": {},
   "source": [
    "**How to use typing**"
   ]
  },
  {
   "cell_type": "code",
   "execution_count": 186,
   "id": "50a46764",
   "metadata": {},
   "outputs": [],
   "source": [
    "from typing import List, Dict, Union, Optional\n"
   ]
  },
  {
   "cell_type": "markdown",
   "id": "af3eeabc",
   "metadata": {},
   "source": [
    "You don’t need it for basic types like`int`, `float`, `str`,\n",
    "but you do need it when types start combining, nesting, or being flexible."
   ]
  },
  {
   "cell_type": "markdown",
   "id": "40d18114",
   "metadata": {},
   "source": [
    "**Why it Exists**"
   ]
  },
  {
   "cell_type": "markdown",
   "id": "1fdf333e",
   "metadata": {},
   "source": [
    "Lets say you want to describe\n",
    "- a list that contains strings or integers\n",
    "- a dictionary where keys are strings and values are floats.\n",
    "- a function that sometimes returns a number, sometimes returns nothing.\n",
    "All of these can't be described clearly with basic hints alone. This is where the  **typing** module comes in. It gives you richer language for describing data."
   ]
  },
  {
   "cell_type": "markdown",
   "id": "51ad1c9c",
   "metadata": {},
   "source": [
    "**Common Tools From Typing**"
   ]
  },
  {
   "cell_type": "markdown",
   "id": "da7c5821",
   "metadata": {},
   "source": [
    "| Typing tool        | Used for                                          | Example                                      |\n",
    "| ------------------ | ------------------------------------------------- | -------------------------------------------- |\n",
    "| `List[T]`          | A list containing elements of type `T`            | `List[int]`, `List[str]`                     |\n",
    "| `Dict[K, V]`       | A dictionary with key type `K` and value type `V` | `Dict[str, int]`                             |\n",
    "| `Union[T1, T2]`    | A value that can be **either** type               | `Union[int, str]`                            |\n",
    "| `Optional[T]`      | A value that can be `T` **or** `None`             | `Optional[int]` (same as `Union[int, None]`) |\n",
    "| `Tuple[T1, T2, …]` | A fixed-length tuple of specified types           | `Tuple[str, int]`                            |\n",
    "| `Any`              | Anything (use when type can’t be known)           | `Any`                                        |\n"
   ]
  },
  {
   "cell_type": "code",
   "execution_count": 187,
   "id": "e84d0a27",
   "metadata": {},
   "outputs": [],
   "source": [
    "from typing import List, Dict, Union, Optional\n",
    "def process_scores(\n",
    "        scores: List[int],\n",
    "        info: Dict[str, Union[int,float]],\n",
    "        comment: Optional[str] = None) -> None:\n",
    "        print(\"Scores:\",scores)\n",
    "        print(\"Info:\", info)\n",
    "        if comment:\n",
    "                print(\"Comment:\", comment)"
   ]
  },
  {
   "cell_type": "markdown",
   "id": "97a77ea0",
   "metadata": {},
   "source": [
    "This tells python that;\n",
    "- `scores` - is a list of integers\n",
    "- `info` - is a dictionary with string keys and values that can be `int` or `str`\n",
    "- `comment` is a string or `None`\n",
    "- `-> None` doesn't return anything"
   ]
  },
  {
   "cell_type": "markdown",
   "id": "a35bfdb6",
   "metadata": {},
   "source": [
    "**Union**"
   ]
  },
  {
   "cell_type": "markdown",
   "id": "eb81d54c",
   "metadata": {},
   "source": [
    "Union is used when a variable or argument can hold more than one possible type. \n",
    "Lets say you have a funtion that accepts either an integer or a string as an ID"
   ]
  },
  {
   "cell_type": "code",
   "execution_count": 188,
   "id": "c36ea43d",
   "metadata": {},
   "outputs": [],
   "source": [
    "from typing import Union\n",
    "def get_fellow_id(id: Union[int, str]) -> str:\n",
    "    return f\"fellow ID: {id}\""
   ]
  },
  {
   "cell_type": "code",
   "execution_count": 189,
   "id": "fc611997",
   "metadata": {},
   "outputs": [
    {
     "name": "stdout",
     "output_type": "stream",
     "text": [
      "fellow ID: 42\n",
      "fellow ID: 42\n"
     ]
    }
   ],
   "source": [
    "print(get_fellow_id(42))\n",
    "print(get_fellow_id(\"42\"))\n"
   ]
  },
  {
   "cell_type": "code",
   "execution_count": 190,
   "id": "0ce11fc1",
   "metadata": {},
   "outputs": [
    {
     "name": "stdout",
     "output_type": "stream",
     "text": [
      "fellow ID: 42.0\n"
     ]
    }
   ],
   "source": [
    "print(get_fellow_id(42.0)) # 0ur IDE will flag it because it is not a string..."
   ]
  },
  {
   "cell_type": "markdown",
   "id": "641bf7ad",
   "metadata": {},
   "source": [
    "if you like ... you can decide to chain two or more types\n",
    "`Union[int, float, str]`\n",
    "\n",
    "But you should keep it simple and not complicate matters."
   ]
  },
  {
   "cell_type": "code",
   "execution_count": 191,
   "id": "575e1660",
   "metadata": {},
   "outputs": [],
   "source": [
    "# Instead of union you can use pipe \"|\" - hold shift + backslash to get it\n",
    "def get_fellow_id(id: int | str) -> str:\n",
    "    return f\"fellow ID: {id}\"\n",
    "\n",
    "# same as \n",
    "def get_fellow_id(id: Union[int, str]) -> str:\n",
    "    return f\"fellow ID: {id}\""
   ]
  },
  {
   "cell_type": "code",
   "execution_count": 192,
   "id": "070efb4f",
   "metadata": {},
   "outputs": [],
   "source": [
    "from typing import Union\n",
    "def format_address(house_number: Union[int, str], street: str) -> str:\n",
    "    return f\"{house_number}{street}\""
   ]
  },
  {
   "cell_type": "code",
   "execution_count": 193,
   "id": "3686f95c",
   "metadata": {},
   "outputs": [
    {
     "name": "stdout",
     "output_type": "stream",
     "text": [
      "23Ajelogo Street\n",
      "23BAjelogo Street\n"
     ]
    }
   ],
   "source": [
    "print(format_address(23, \"Ajelogo Street\"))\n",
    "print(format_address(\"23B\", \"Ajelogo Street\"))"
   ]
  },
  {
   "cell_type": "markdown",
   "id": "6d638873",
   "metadata": {},
   "source": [
    "**Optional**"
   ]
  },
  {
   "cell_type": "markdown",
   "id": "b59a9e08",
   "metadata": {},
   "source": [
    "Sometimes you don’t just have “this or that”, \n",
    "you have “this or nothing”.\n",
    "\n",
    "This is  where `Optional` comes in."
   ]
  },
  {
   "cell_type": "markdown",
   "id": "9a09a963",
   "metadata": {},
   "source": [
    "Optional is just a shorthand for a very common Union case:\n",
    "\n",
    "```\n",
    "Optional[X]  ==  Union[X, None]\n",
    "\n",
    "```\n",
    "\n",
    "```\n",
    "optional[str] # This means the value can string or \"None\"(nothing)\n",
    "```\n"
   ]
  },
  {
   "cell_type": "markdown",
   "id": "0cf9cac8",
   "metadata": {},
   "source": [
    "Now, in a real project, it is common to have parameters or fields that are not always provided.\n",
    "\n",
    "for example, \n",
    "- A user might have a middle name or might not\n",
    "- An API request might include a comment, or might leave it blank\n",
    "\n",
    "This is what oprional expresses\n"
   ]
  },
  {
   "cell_type": "code",
   "execution_count": 194,
   "id": "d387b0c7",
   "metadata": {},
   "outputs": [],
   "source": [
    "from typing import Optional\n",
    "\n",
    "def greet(first_name: str, last_name:Optional[str] = None) -> None:\n",
    "    if last_name:\n",
    "        print(f\"Hello {first_name} {last_name}\")\n",
    "    else:\n",
    "        print(f\"Hello {first_name}\")"
   ]
  },
  {
   "cell_type": "code",
   "execution_count": 195,
   "id": "2a51984d",
   "metadata": {},
   "outputs": [
    {
     "name": "stdout",
     "output_type": "stream",
     "text": [
      "Hello Toyeebat Arike\n",
      "Hello Toyeebat\n"
     ]
    }
   ],
   "source": [
    "greet(\"Toyeebat\", \"Arike\")\n",
    "greet(\"Toyeebat\")"
   ]
  },
  {
   "cell_type": "markdown",
   "id": "e4adfb64",
   "metadata": {},
   "source": [
    "The last_name parameter can be a string or None.\n",
    "\n",
    "By default, we set it to None if the user doesn’t supply one."
   ]
  },
  {
   "cell_type": "code",
   "execution_count": 196,
   "id": "ef3f7d75",
   "metadata": {},
   "outputs": [],
   "source": [
    "def find_user(username: str) -> Optional[dict]:\n",
    "    if username == \"admin\":\n",
    "        return {\"username\": \"admin\", \"role\": \"superuser\"}\n",
    "    return None"
   ]
  },
  {
   "cell_type": "markdown",
   "id": "f5379e85",
   "metadata": {},
   "source": [
    "The function returns a dictionary if the user exists.\n",
    "\n",
    "If not, it returns None.\n",
    "\n",
    "That’s exactly what Optional describes."
   ]
  },
  {
   "cell_type": "code",
   "execution_count": 197,
   "id": "eb036dfe",
   "metadata": {},
   "outputs": [
    {
     "data": {
      "text/plain": [
       "{'username': 'admin', 'role': 'superuser'}"
      ]
     },
     "execution_count": 197,
     "metadata": {},
     "output_type": "execute_result"
    }
   ],
   "source": [
    "find_user(\"admin\")"
   ]
  },
  {
   "cell_type": "markdown",
   "id": "dceb2d02",
   "metadata": {},
   "source": [
    "**typed collections**\n",
    "\n",
    "- Starting with `dict` and `tuple`. These are quite important because wen we get to Pydantic models and FastAPI, we will use them to describe structured data."
   ]
  },
  {
   "cell_type": "markdown",
   "id": "a50a374d",
   "metadata": {},
   "source": [
    "**`Dict` - typed dictionary**"
   ]
  },
  {
   "cell_type": "markdown",
   "id": "e1b53e9f",
   "metadata": {},
   "source": [
    "`Dict[K,V]` describes a dictionary where\n",
    "- `k` - type of the keys\n",
    "- `V` - type of the values\n",
    "\n",
    "- This is takes the _**kwargs_ arguments"
   ]
  },
  {
   "cell_type": "code",
   "execution_count": 198,
   "id": "f7cefcd7",
   "metadata": {},
   "outputs": [],
   "source": [
    "from typing import Dict\n",
    "\n",
    "fellow_scores: Dict[str, int] = {\n",
    "    \"David\": 89,\n",
    "    \"Michael\": 98\n",
    "}"
   ]
  },
  {
   "cell_type": "markdown",
   "id": "33641a80",
   "metadata": {},
   "source": [
    "This means that every key is a string and every value is an integer.\n",
    "The IDE will flag it if you decide to add a string as a value\n"
   ]
  },
  {
   "cell_type": "markdown",
   "id": "8ee6e58d",
   "metadata": {},
   "source": [
    "**`Tuple` Typed Tuples**"
   ]
  },
  {
   "cell_type": "markdown",
   "id": "f3281d50",
   "metadata": {},
   "source": [
    "A tuple is like a small fixed-sized list, but we can define exactly what type each position shuld have."
   ]
  },
  {
   "cell_type": "code",
   "execution_count": 199,
   "id": "482e76a0",
   "metadata": {},
   "outputs": [],
   "source": [
    "from typing import Tuple\n",
    "\n",
    "fellow: Tuple[str, int, str] = ('Perpetual', 88, 'AI Engineering')\n",
    "    \n"
   ]
  },
  {
   "cell_type": "markdown",
   "id": "efe9398a",
   "metadata": {},
   "source": [
    "This means that position 0 takes on string, 1 takes on int while 2 takes on strings also.And it will be flagged if interchanged."
   ]
  },
  {
   "cell_type": "code",
   "execution_count": 200,
   "id": "b9101b86",
   "metadata": {},
   "outputs": [],
   "source": [
    "def ai_fello(fellow: Tuple[str, int]) -> str:\n",
    "    name, score = fellow\n",
    "    return f\"{name} scored {score} in the last exam.\""
   ]
  },
  {
   "cell_type": "markdown",
   "id": "11d9971f",
   "metadata": {},
   "source": [
    "**Pydantic**"
   ]
  },
  {
   "cell_type": "markdown",
   "id": "c002771f",
   "metadata": {},
   "source": [
    "Pydantic like typing is used to build a structured, type-safe data models. It uses these type hints to validate,serialize, parse and structure data automatically.\n",
    "\n",
    "In simple terms, It takes messy or untrusted data like API input, JSON or form data and checks that it matches your type definitions.\n",
    "\n",
    "Now if the data type doesnt match, pydantic raises an error with a clear explanation.\n"
   ]
  },
  {
   "cell_type": "markdown",
   "id": "c962876c",
   "metadata": {},
   "source": [
    "**Using Pydantic**"
   ]
  },
  {
   "cell_type": "markdown",
   "id": "cdb9d00f",
   "metadata": {},
   "source": [
    "You can `pip install pydantic`but if you have already installed `fastapi` that means you have it already."
   ]
  },
  {
   "cell_type": "code",
   "execution_count": 201,
   "id": "be962e86",
   "metadata": {},
   "outputs": [],
   "source": [
    "%%capture\n",
    "%pip install pydantic"
   ]
  },
  {
   "cell_type": "code",
   "execution_count": 202,
   "id": "ca9a7cab",
   "metadata": {},
   "outputs": [],
   "source": [
    "# importing pydantic\n",
    "from pydantic import BaseModel"
   ]
  },
  {
   "cell_type": "markdown",
   "id": "95a0564e",
   "metadata": {},
   "source": [
    "`BaseModel` - This is the core class in pydantic that all our models inherit from(do you still remember inheritance?)\n",
    "\n",
    "- It gives your class the superpowers that makes pydantic useful. It handles core concept like;\n",
    "- data validation\n",
    "- autmatic type conversion\n",
    "- error reporting\n",
    "- serialization/ deserialization\n",
    "- schema generation - this one is heavilty used in FastAPI"
   ]
  },
  {
   "cell_type": "code",
   "execution_count": 203,
   "id": "a4d87a6f",
   "metadata": {},
   "outputs": [],
   "source": [
    "# Lets create a pydantic data model\n",
    "class Fellow(BaseModel):\n",
    "    name:str\n",
    "    score: int\n",
    "    track: str"
   ]
  },
  {
   "cell_type": "markdown",
   "id": "71df9f37",
   "metadata": {},
   "source": [
    "These data model knows\n",
    "- What fields it has (`name`,`score`,`track`)\n",
    "- What types those field should be (`str`,`int`,`str`)\n",
    "- how to check and clean input data\n",
    "- how to output itsself as clean, structured data(`dict`,`json`, etc)"
   ]
  },
  {
   "cell_type": "markdown",
   "id": "46bbfb7c",
   "metadata": {},
   "source": [
    "**What is `BaseModel` Capable of**"
   ]
  },
  {
   "cell_type": "code",
   "execution_count": 204,
   "id": "5b3a3b6b",
   "metadata": {},
   "outputs": [
    {
     "data": {
      "text/plain": [
       "Fellow(name='Perpetual', score=88, track='AI Engineering')"
      ]
     },
     "execution_count": 204,
     "metadata": {},
     "output_type": "execute_result"
    }
   ],
   "source": [
    "#1. Validation - It automaticalluy validates data passed to it\n",
    "Fellow(name=\"Perpetual\", score=88, track=\"AI Engineering\") # This will work fine"
   ]
  },
  {
   "cell_type": "code",
   "execution_count": 205,
   "id": "746a42f7",
   "metadata": {},
   "outputs": [
    {
     "ename": "ValidationError",
     "evalue": "1 validation error for Fellow\nscore\n  Input should be a valid integer, unable to parse string as an integer [type=int_parsing, input_value='eighty-seven', input_type=str]\n    For further information visit https://errors.pydantic.dev/2.12/v/int_parsing",
     "output_type": "error",
     "traceback": [
      "\u001b[31m---------------------------------------------------------------------------\u001b[39m",
      "\u001b[31mValidationError\u001b[39m                           Traceback (most recent call last)",
      "\u001b[36mCell\u001b[39m\u001b[36m \u001b[39m\u001b[32mIn[205]\u001b[39m\u001b[32m, line 1\u001b[39m\n\u001b[32m----> \u001b[39m\u001b[32m1\u001b[39m \u001b[43mFellow\u001b[49m\u001b[43m(\u001b[49m\u001b[43mname\u001b[49m\u001b[43m=\u001b[49m\u001b[43m \u001b[49m\u001b[33;43m\"\u001b[39;49m\u001b[33;43mZach\u001b[39;49m\u001b[33;43m\"\u001b[39;49m\u001b[43m,\u001b[49m\u001b[43m \u001b[49m\u001b[43mscore\u001b[49m\u001b[43m \u001b[49m\u001b[43m=\u001b[49m\u001b[43m \u001b[49m\u001b[33;43m\"\u001b[39;49m\u001b[33;43meighty-seven\u001b[39;49m\u001b[33;43m\"\u001b[39;49m\u001b[43m,\u001b[49m\u001b[43m \u001b[49m\u001b[43mtrack\u001b[49m\u001b[43m=\u001b[49m\u001b[33;43m\"\u001b[39;49m\u001b[33;43mAI Engineering\u001b[39;49m\u001b[33;43m\"\u001b[39;49m\u001b[43m)\u001b[49m \u001b[38;5;66;03m# This will raise error\u001b[39;00m\n",
      "\u001b[36mFile \u001b[39m\u001b[32mc:\\Users\\kanyi\\Desktop\\Module_3\\my_venv\\Lib\\site-packages\\pydantic\\main.py:250\u001b[39m, in \u001b[36mBaseModel.__init__\u001b[39m\u001b[34m(self, **data)\u001b[39m\n\u001b[32m    248\u001b[39m \u001b[38;5;66;03m# `__tracebackhide__` tells pytest and some other tools to omit this function from tracebacks\u001b[39;00m\n\u001b[32m    249\u001b[39m __tracebackhide__ = \u001b[38;5;28;01mTrue\u001b[39;00m\n\u001b[32m--> \u001b[39m\u001b[32m250\u001b[39m validated_self = \u001b[38;5;28;43mself\u001b[39;49m\u001b[43m.\u001b[49m\u001b[43m__pydantic_validator__\u001b[49m\u001b[43m.\u001b[49m\u001b[43mvalidate_python\u001b[49m\u001b[43m(\u001b[49m\u001b[43mdata\u001b[49m\u001b[43m,\u001b[49m\u001b[43m \u001b[49m\u001b[43mself_instance\u001b[49m\u001b[43m=\u001b[49m\u001b[38;5;28;43mself\u001b[39;49m\u001b[43m)\u001b[49m\n\u001b[32m    251\u001b[39m \u001b[38;5;28;01mif\u001b[39;00m \u001b[38;5;28mself\u001b[39m \u001b[38;5;129;01mis\u001b[39;00m \u001b[38;5;129;01mnot\u001b[39;00m validated_self:\n\u001b[32m    252\u001b[39m     warnings.warn(\n\u001b[32m    253\u001b[39m         \u001b[33m'\u001b[39m\u001b[33mA custom validator is returning a value other than `self`.\u001b[39m\u001b[38;5;130;01m\\n\u001b[39;00m\u001b[33m'\u001b[39m\n\u001b[32m    254\u001b[39m         \u001b[33m\"\u001b[39m\u001b[33mReturning anything other than `self` from a top level model validator isn\u001b[39m\u001b[33m'\u001b[39m\u001b[33mt supported when validating via `__init__`.\u001b[39m\u001b[38;5;130;01m\\n\u001b[39;00m\u001b[33m\"\u001b[39m\n\u001b[32m    255\u001b[39m         \u001b[33m'\u001b[39m\u001b[33mSee the `model_validator` docs (https://docs.pydantic.dev/latest/concepts/validators/#model-validators) for more details.\u001b[39m\u001b[33m'\u001b[39m,\n\u001b[32m    256\u001b[39m         stacklevel=\u001b[32m2\u001b[39m,\n\u001b[32m    257\u001b[39m     )\n",
      "\u001b[31mValidationError\u001b[39m: 1 validation error for Fellow\nscore\n  Input should be a valid integer, unable to parse string as an integer [type=int_parsing, input_value='eighty-seven', input_type=str]\n    For further information visit https://errors.pydantic.dev/2.12/v/int_parsing"
     ]
    }
   ],
   "source": [
    "Fellow(name= \"Zach\", score = \"eighty-seven\", track=\"AI Engineering\") # This will raise error"
   ]
  },
  {
   "cell_type": "code",
   "execution_count": null,
   "id": "38564fe1",
   "metadata": {},
   "outputs": [
    {
     "name": "stdout",
     "output_type": "stream",
     "text": [
      "<class 'int'>\n"
     ]
    }
   ],
   "source": [
    "#2. parsing and type conversion - It automatically converts compatible types\n",
    "# It read and interpretes data\n",
    "p = Fellow(name= \"Perpetual\", score=\"88\", track = \"AI Engineering\")\n",
    "print(type(p.score))"
   ]
  },
  {
   "cell_type": "markdown",
   "id": "1f453909",
   "metadata": {},
   "source": [
    "This is telling us that the compatible class is int and  not string as we have define above."
   ]
  },
  {
   "cell_type": "code",
   "execution_count": null,
   "id": "229e82f3",
   "metadata": {},
   "outputs": [
    {
     "name": "stdout",
     "output_type": "stream",
     "text": [
      "name='Blessing' score=100 track='AI Engineering '\n",
      "<class 'int'>\n"
     ]
    }
   ],
   "source": [
    "# an incomming data\n",
    "data= {\"name\":\"Blessing\", \"score\": \"100\", \"track\":\"AI Engineering \"}\n",
    "\n",
    "# pydantic will parse it like this\n",
    "fellow =Fellow(**data)\n",
    "\n",
    "print(fellow)\n",
    "print(type(fellow.score))\n"
   ]
  },
  {
   "cell_type": "markdown",
   "id": "b527535f",
   "metadata": {},
   "source": [
    "Here, Pydantic **parsed** \"100\" (a string) into 100 (an int).\n",
    "It “understood” the data and converted it into a proper Python model."
   ]
  },
  {
   "cell_type": "code",
   "execution_count": null,
   "id": "a99a3dc3",
   "metadata": {},
   "outputs": [
    {
     "name": "stdout",
     "output_type": "stream",
     "text": [
      "{\"name\":\"Perpetual\",\"score\":88,\"track\":\"AI Engineering\"}\n"
     ]
    },
    {
     "name": "stderr",
     "output_type": "stream",
     "text": [
      "C:\\Users\\kanyi\\AppData\\Local\\Temp\\ipykernel_32652\\2218916639.py:3: PydanticDeprecatedSince20: The `json` method is deprecated; use `model_dump_json` instead. Deprecated in Pydantic V2.0 to be removed in V3.0. See Pydantic V2 Migration Guide at https://errors.pydantic.dev/2.12/migration/\n",
      "  print(p.json())\n"
     ]
    }
   ],
   "source": [
    "# 3. Serialization - It automatically converts data to JSON or dictioanry(converts to a format that can be stored or sent)\n",
    "# Its more like packaging a data for output\n",
    "print(p.json())"
   ]
  },
  {
   "cell_type": "code",
   "execution_count": null,
   "id": "be423953",
   "metadata": {},
   "outputs": [
    {
     "name": "stdout",
     "output_type": "stream",
     "text": [
      "{'name': 'Perpetual', 'score': 88, 'track': 'AI Engineering'}\n"
     ]
    },
    {
     "name": "stderr",
     "output_type": "stream",
     "text": [
      "C:\\Users\\kanyi\\AppData\\Local\\Temp\\ipykernel_32652\\2898676942.py:1: PydanticDeprecatedSince20: The `dict` method is deprecated; use `model_dump` instead. Deprecated in Pydantic V2.0 to be removed in V3.0. See Pydantic V2 Migration Guide at https://errors.pydantic.dev/2.12/migration/\n",
      "  print(p.dict())\n"
     ]
    }
   ],
   "source": [
    "print(p.dict())"
   ]
  },
  {
   "cell_type": "code",
   "execution_count": null,
   "id": "e4eb8d02",
   "metadata": {},
   "outputs": [],
   "source": [
    "# 4. Nesting  - Models can be nested to create complex data structures\n",
    "class Address(BaseModel):\n",
    "    street: str\n",
    "    city: str\n",
    "    state: str\n",
    "    country: str\n",
    "\n",
    "\n",
    "class Fellow(BaseModel):\n",
    "    name: str\n",
    "    score: int\n",
    "    track: str\n",
    "    address: Address\n",
    "\n",
    "# Pydantic will validate this automatically\n"
   ]
  },
  {
   "cell_type": "markdown",
   "id": "5d794751",
   "metadata": {},
   "source": [
    "Here, Fellow contains an Address —\n",
    "so instead of just primitive types (str, int),\n",
    "you’re using another Pydantic model (Address) as a field type."
   ]
  },
  {
   "cell_type": "code",
   "execution_count": null,
   "id": "d022ef72",
   "metadata": {},
   "outputs": [
    {
     "name": "stdout",
     "output_type": "stream",
     "text": [
      "name='Perpetual' score=88 track='AI Engineering' address=Address(street='Ajelogo Street', city='Ketu', state='Lagos', country='Nigeria')\n"
     ]
    }
   ],
   "source": [
    "# lets pass this data\n",
    "data = {\n",
    "    \"name\": \"Perpetual\",\n",
    "    \"score\": 88,\n",
    "    \"track\": \"AI Engineering\",\n",
    "    \n",
    "    \"address\": {\n",
    "        \"street\": \"Ajelogo Street\",\n",
    "        \"city\": \"Ketu\",\n",
    "        \"state\": \"Lagos\",\n",
    "        \"country\": \"Nigeria\"\n",
    "    }\n",
    "}\n",
    "\n",
    "# pydantic will parse it like this  \n",
    "fellow = Fellow(**data)\n",
    "\n",
    "print(fellow)"
   ]
  },
  {
   "cell_type": "markdown",
   "id": "43680da1",
   "metadata": {},
   "source": [
    "**What is happening behind the scene**\n",
    "- Pydantic sees that Fellow as a field address of type Address.\n",
    "\n",
    "- It looks at the dictionary under \"address\".\n",
    "\n",
    "- It automatically creates an Address object inside Fellow.\n",
    "\n",
    "- It validates that street and city are both strings.\n",
    "\n",
    "So, you get deep validation — Pydantic checks every layer of your data."
   ]
  },
  {
   "cell_type": "code",
   "execution_count": null,
   "id": "af094934",
   "metadata": {},
   "outputs": [
    {
     "name": "stdout",
     "output_type": "stream",
     "text": [
      "Ajelogo Street\n"
     ]
    }
   ],
   "source": [
    "# you can easily access inner fields if you need to\n",
    "\n",
    "print(fellow.address.street)"
   ]
  },
  {
   "cell_type": "code",
   "execution_count": null,
   "id": "13770375",
   "metadata": {},
   "outputs": [
    {
     "name": "stdout",
     "output_type": "stream",
     "text": [
      "{'name': 'Perpetual', 'score': 88, 'track': 'AI Engineering', 'address': {'street': 'Ajelogo Street', 'city': 'Ketu', 'state': 'Lagos', 'country': 'Nigeria'}}\n"
     ]
    },
    {
     "name": "stderr",
     "output_type": "stream",
     "text": [
      "C:\\Users\\kanyi\\AppData\\Local\\Temp\\ipykernel_32652\\956739212.py:1: PydanticDeprecatedSince20: The `dict` method is deprecated; use `model_dump` instead. Deprecated in Pydantic V2.0 to be removed in V3.0. See Pydantic V2 Migration Guide at https://errors.pydantic.dev/2.12/migration/\n",
      "  print(fellow.dict())\n"
     ]
    }
   ],
   "source": [
    "print(fellow.dict())"
   ]
  },
  {
   "cell_type": "code",
   "execution_count": null,
   "id": "96dbf36b",
   "metadata": {},
   "outputs": [
    {
     "name": "stdout",
     "output_type": "stream",
     "text": [
      "{\"name\":\"Perpetual\",\"score\":88,\"track\":\"AI Engineering\",\"address\":{\"street\":\"Ajelogo Street\",\"city\":\"Ketu\",\"state\":\"Lagos\",\"country\":\"Nigeria\"}}\n"
     ]
    },
    {
     "name": "stderr",
     "output_type": "stream",
     "text": [
      "C:\\Users\\kanyi\\AppData\\Local\\Temp\\ipykernel_32652\\1809417232.py:1: PydanticDeprecatedSince20: The `json` method is deprecated; use `model_dump_json` instead. Deprecated in Pydantic V2.0 to be removed in V3.0. See Pydantic V2 Migration Guide at https://errors.pydantic.dev/2.12/migration/\n",
      "  print(fellow.json())\n"
     ]
    }
   ],
   "source": [
    "print(fellow.json())"
   ]
  },
  {
   "cell_type": "markdown",
   "id": "98f46f96",
   "metadata": {},
   "source": [
    "**A list of Nested Models**"
   ]
  },
  {
   "cell_type": "markdown",
   "id": "1e4dc298",
   "metadata": {},
   "source": [
    "This makes sense, lets say you are using two addresses, yea?"
   ]
  },
  {
   "cell_type": "code",
   "execution_count": null,
   "id": "426fd7a8",
   "metadata": {},
   "outputs": [],
   "source": [
    "# So we can have something like this...for a listt of adress\n",
    "from typing import List\n",
    "from pydantic import BaseModel\n",
    "\n",
    "class Fellow(BaseModel):\n",
    "    name: str\n",
    "    score: int\n",
    "    track: str\n",
    "    addresses: List[Address]"
   ]
  },
  {
   "cell_type": "markdown",
   "id": "c953f051",
   "metadata": {},
   "source": [
    "Here, addresses isn’t just one Address —\n",
    "it’s a list (List[Address]), meaning the person can have multiple addresses."
   ]
  },
  {
   "cell_type": "code",
   "execution_count": null,
   "id": "4b187175",
   "metadata": {},
   "outputs": [
    {
     "name": "stdout",
     "output_type": "stream",
     "text": [
      "name='Perpetual' score=88 track='AI Engineering' addresses=[Address(street='Idiroko Road', city='Sango', state='Lagos', country='Nigeria'), Address(street='Kobape', city='Abeokuta', state='Ogun', country='Nigeria')]\n"
     ]
    }
   ],
   "source": [
    "data = {\n",
    "    \"name\": \"Perpetual\",\n",
    "    \"score\": 88,\n",
    "    \"track\": \"AI Engineering\",\n",
    "    \"addresses\": [\n",
    "        {\"street\": \"Idiroko Road\", \"city\": \"Sango\", \"state\": \"Lagos\",\n",
    "        \"country\": \"Nigeria\"},\n",
    "        {\"street\": \"Kobape\", \"city\": \"Abeokuta\", \"state\": \"Ogun\",\n",
    "        \"country\": \"Nigeria\"}\n",
    "    ]\n",
    "}\n",
    "\n",
    "fellow = Fellow(**data)\n",
    "print(fellow)"
   ]
  },
  {
   "cell_type": "code",
   "execution_count": null,
   "id": "d2ca64f1",
   "metadata": {},
   "outputs": [
    {
     "name": "stdout",
     "output_type": "stream",
     "text": [
      "Sango\n",
      "Abeokuta\n"
     ]
    }
   ],
   "source": [
    "# Accessing the nested Items\n",
    "\n",
    "print(fellow.addresses[0].city)\n",
    "print(fellow.addresses[1].city)"
   ]
  },
  {
   "cell_type": "markdown",
   "id": "18e12cf0",
   "metadata": {},
   "source": [
    "**For outputing**"
   ]
  },
  {
   "cell_type": "code",
   "execution_count": null,
   "id": "02958a56",
   "metadata": {},
   "outputs": [
    {
     "name": "stdout",
     "output_type": "stream",
     "text": [
      "<bound method BaseModel.json of Fellow(name='Perpetual', score=88, track='AI Engineering', addresses=[Address(street='Idiroko Road', city='Sango', state='Lagos', country='Nigeria'), Address(street='Kobape', city='Abeokuta', state='Ogun', country='Nigeria')])>\n",
      "{\"name\":\"Perpetual\",\"score\":88,\"track\":\"AI Engineering\",\"addresses\":[{\"street\":\"Idiroko Road\",\"city\":\"Sango\",\"state\":\"Lagos\",\"country\":\"Nigeria\"},{\"street\":\"Kobape\",\"city\":\"Abeokuta\",\"state\":\"Ogun\",\"country\":\"Nigeria\"}]}\n",
      "\n",
      "\n",
      "{'name': 'Perpetual', 'score': 88, 'track': 'AI Engineering', 'addresses': [{'street': 'Idiroko Road', 'city': 'Sango', 'state': 'Lagos', 'country': 'Nigeria'}, {'street': 'Kobape', 'city': 'Abeokuta', 'state': 'Ogun', 'country': 'Nigeria'}]}\n",
      "{'name': 'Perpetual', 'score': 88, 'track': 'AI Engineering', 'addresses': [{'street': 'Idiroko Road', 'city': 'Sango', 'state': 'Lagos', 'country': 'Nigeria'}, {'street': 'Kobape', 'city': 'Abeokuta', 'state': 'Ogun', 'country': 'Nigeria'}]}\n"
     ]
    },
    {
     "name": "stderr",
     "output_type": "stream",
     "text": [
      "C:\\Users\\kanyi\\AppData\\Local\\Temp\\ipykernel_32652\\1705960686.py:6: PydanticDeprecatedSince20: The `dict` method is deprecated; use `model_dump` instead. Deprecated in Pydantic V2.0 to be removed in V3.0. See Pydantic V2 Migration Guide at https://errors.pydantic.dev/2.12/migration/\n",
      "  print(fellow.dict())\n"
     ]
    }
   ],
   "source": [
    "# we can serialize if we want to\n",
    "\n",
    "print(fellow.json) \n",
    "print(fellow.model_dump_json()) # use this instead\n",
    "print(\"\\n\")\n",
    "print(fellow.dict())\n",
    "print(fellow.model_dump()) # use this instead"
   ]
  },
  {
   "cell_type": "code",
   "execution_count": null,
   "id": "ffbe5f51",
   "metadata": {},
   "outputs": [
    {
     "name": "stdout",
     "output_type": "stream",
     "text": [
      "name='Michael' score=-79 addresses=[Address(street='123 Marose Street', city='Ikorodu'), Address(street='4 Babtunde Ave', city='Abiola way')]\n"
     ]
    }
   ],
   "source": [
    "from typing import List\n",
    "from pydantic import BaseModel\n",
    "\n",
    "class Address(BaseModel):\n",
    "    street: str\n",
    "    city: str\n",
    "\n",
    "class Fellow(BaseModel):\n",
    "    name: str\n",
    "    score: int\n",
    "    addresses: List[Address]\n",
    "\n",
    "data = {\n",
    "    \"name\": \"Michael\",\n",
    "    \"score\": -79,\n",
    "    \"addresses\": [\n",
    "        {\"street\": \"123 Marose Street\", \"city\": \"Ikorodu\"},\n",
    "        {\"street\": \"4 Babtunde Ave\", \"city\": \"Abiola way\"}\n",
    "    ]\n",
    "}\n",
    "\n",
    "fellow = Fellow(**data)\n",
    "print(fellow)"
   ]
  },
  {
   "cell_type": "markdown",
   "id": "38675a84",
   "metadata": {},
   "source": [
    "This works fine, but right now, any value for score is accepted,\n",
    "even something unrealistic like -79 score.\n",
    "\n",
    "Let’s fix that.\n",
    "we would do that by adding a `field level validation`"
   ]
  },
  {
   "cell_type": "markdown",
   "id": "9d4ca74d",
   "metadata": {},
   "source": [
    "Pydantic lets you add constraints directly to fields\n",
    "using the `Field` helper"
   ]
  },
  {
   "cell_type": "code",
   "execution_count": null,
   "id": "79a3b9d5",
   "metadata": {},
   "outputs": [],
   "source": [
    "from pydantic import BaseModel, Field\n",
    "from typing import List\n",
    "\n",
    "class Address(BaseModel):\n",
    "    street: str\n",
    "    city: str\n",
    "\n",
    "class Fellow(BaseModel):\n",
    "    name: str\n",
    "    score: int = Field(..., ge=0, le=100) # using the field\n",
    "    addresses: List[Address]\n"
   ]
  },
  {
   "cell_type": "markdown",
   "id": "8f008e8c",
   "metadata": {},
   "source": [
    "Here’s what that means:\n",
    "\n",
    "`ge=0` -greater than or equal to 0\n",
    "\n",
    "`le=100` -less than  or equal to 100\n",
    "\n",
    "The `...` means this field is required (it can’t be missing)"
   ]
  },
  {
   "cell_type": "code",
   "execution_count": null,
   "id": "977450cb",
   "metadata": {},
   "outputs": [
    {
     "ename": "ValidationError",
     "evalue": "1 validation error for Fellow\nscore\n  Input should be greater than or equal to 0 [type=greater_than_equal, input_value=-40, input_type=int]\n    For further information visit https://errors.pydantic.dev/2.12/v/greater_than_equal",
     "output_type": "error",
     "traceback": [
      "\u001b[31m---------------------------------------------------------------------------\u001b[39m",
      "\u001b[31mValidationError\u001b[39m                           Traceback (most recent call last)",
      "\u001b[36mCell\u001b[39m\u001b[36m \u001b[39m\u001b[32mIn[36]\u001b[39m\u001b[32m, line 1\u001b[39m\n\u001b[32m----> \u001b[39m\u001b[32m1\u001b[39m \u001b[43mFellow\u001b[49m\u001b[43m(\u001b[49m\u001b[43mname\u001b[49m\u001b[43m=\u001b[49m\u001b[33;43m\"\u001b[39;49m\u001b[33;43mHassan\u001b[39;49m\u001b[33;43m\"\u001b[39;49m\u001b[43m,\u001b[49m\u001b[43m \u001b[49m\u001b[43mscore\u001b[49m\u001b[43m=\u001b[49m\u001b[43m \u001b[49m\u001b[43m-\u001b[49m\u001b[32;43m40\u001b[39;49m\u001b[43m,\u001b[49m\u001b[43m \u001b[49m\u001b[43maddresses\u001b[49m\u001b[43m=\u001b[49m\u001b[43m[\u001b[49m\u001b[43m]\u001b[49m\u001b[43m)\u001b[49m\n",
      "\u001b[36mFile \u001b[39m\u001b[32mc:\\Users\\kanyi\\Desktop\\Module_3\\my_venv\\Lib\\site-packages\\pydantic\\main.py:250\u001b[39m, in \u001b[36mBaseModel.__init__\u001b[39m\u001b[34m(self, **data)\u001b[39m\n\u001b[32m    248\u001b[39m \u001b[38;5;66;03m# `__tracebackhide__` tells pytest and some other tools to omit this function from tracebacks\u001b[39;00m\n\u001b[32m    249\u001b[39m __tracebackhide__ = \u001b[38;5;28;01mTrue\u001b[39;00m\n\u001b[32m--> \u001b[39m\u001b[32m250\u001b[39m validated_self = \u001b[38;5;28;43mself\u001b[39;49m\u001b[43m.\u001b[49m\u001b[43m__pydantic_validator__\u001b[49m\u001b[43m.\u001b[49m\u001b[43mvalidate_python\u001b[49m\u001b[43m(\u001b[49m\u001b[43mdata\u001b[49m\u001b[43m,\u001b[49m\u001b[43m \u001b[49m\u001b[43mself_instance\u001b[49m\u001b[43m=\u001b[49m\u001b[38;5;28;43mself\u001b[39;49m\u001b[43m)\u001b[49m\n\u001b[32m    251\u001b[39m \u001b[38;5;28;01mif\u001b[39;00m \u001b[38;5;28mself\u001b[39m \u001b[38;5;129;01mis\u001b[39;00m \u001b[38;5;129;01mnot\u001b[39;00m validated_self:\n\u001b[32m    252\u001b[39m     warnings.warn(\n\u001b[32m    253\u001b[39m         \u001b[33m'\u001b[39m\u001b[33mA custom validator is returning a value other than `self`.\u001b[39m\u001b[38;5;130;01m\\n\u001b[39;00m\u001b[33m'\u001b[39m\n\u001b[32m    254\u001b[39m         \u001b[33m\"\u001b[39m\u001b[33mReturning anything other than `self` from a top level model validator isn\u001b[39m\u001b[33m'\u001b[39m\u001b[33mt supported when validating via `__init__`.\u001b[39m\u001b[38;5;130;01m\\n\u001b[39;00m\u001b[33m\"\u001b[39m\n\u001b[32m    255\u001b[39m         \u001b[33m'\u001b[39m\u001b[33mSee the `model_validator` docs (https://docs.pydantic.dev/latest/concepts/validators/#model-validators) for more details.\u001b[39m\u001b[33m'\u001b[39m,\n\u001b[32m    256\u001b[39m         stacklevel=\u001b[32m2\u001b[39m,\n\u001b[32m    257\u001b[39m     )\n",
      "\u001b[31mValidationError\u001b[39m: 1 validation error for Fellow\nscore\n  Input should be greater than or equal to 0 [type=greater_than_equal, input_value=-40, input_type=int]\n    For further information visit https://errors.pydantic.dev/2.12/v/greater_than_equal"
     ]
    }
   ],
   "source": [
    "Fellow(name=\"Hassan\", score= -40, addresses=[])"
   ]
  },
  {
   "cell_type": "markdown",
   "id": "8b84f40d",
   "metadata": {},
   "source": [
    "...Read the error message above"
   ]
  },
  {
   "cell_type": "code",
   "execution_count": null,
   "id": "f7157386",
   "metadata": {},
   "outputs": [
    {
     "data": {
      "text/plain": [
       "Fellow(name='Hassan', score=80, addresses=[])"
      ]
     },
     "execution_count": 37,
     "metadata": {},
     "output_type": "execute_result"
    }
   ],
   "source": [
    "Fellow(name=\"Hassan\", score=80, addresses=[])"
   ]
  },
  {
   "cell_type": "markdown",
   "id": "af6b7e35",
   "metadata": {},
   "source": [
    "This kind of validation\n",
    "\n",
    "- prevents bad data from ever entering your system,\n",
    "\n",
    "- gives clear feedback to API clients,\n",
    "\n",
    "- and works automatically inside FastAPI (no extra code needed in your routes)."
   ]
  },
  {
   "cell_type": "markdown",
   "id": "85ef88b4",
   "metadata": {},
   "source": [
    "**Custom Validation**"
   ]
  },
  {
   "cell_type": "markdown",
   "id": "b9fb0569",
   "metadata": {},
   "source": [
    "You can also write custom validation logic using a `@validator` decorator."
   ]
  },
  {
   "cell_type": "code",
   "execution_count": null,
   "id": "b33240cd",
   "metadata": {},
   "outputs": [],
   "source": [
    "from pydantic import BaseModel, Field, field_validator\n",
    "\n",
    "class Person(BaseModel):\n",
    "    name: str\n",
    "    age:int = Field(..., ge=0)\n",
    "\n",
    "    @field_validator(\"name\")\n",
    "    def name_must_start_with_capital(cls,v):\n",
    "        if not v[0].isupper():\n",
    "            raise ValueError(\"Name must start with a capital letter\")\n",
    "        return v"
   ]
  },
  {
   "cell_type": "code",
   "execution_count": null,
   "id": "139079f7",
   "metadata": {},
   "outputs": [
    {
     "ename": "ValidationError",
     "evalue": "1 validation error for Person\nname\n  Value error, Name must start with a capital letter [type=value_error, input_value='solomon', input_type=str]\n    For further information visit https://errors.pydantic.dev/2.12/v/value_error",
     "output_type": "error",
     "traceback": [
      "\u001b[31m---------------------------------------------------------------------------\u001b[39m",
      "\u001b[31mValidationError\u001b[39m                           Traceback (most recent call last)",
      "\u001b[36mCell\u001b[39m\u001b[36m \u001b[39m\u001b[32mIn[41]\u001b[39m\u001b[32m, line 1\u001b[39m\n\u001b[32m----> \u001b[39m\u001b[32m1\u001b[39m \u001b[43mPerson\u001b[49m\u001b[43m(\u001b[49m\u001b[43mname\u001b[49m\u001b[43m=\u001b[49m\u001b[33;43m\"\u001b[39;49m\u001b[33;43msolomon\u001b[39;49m\u001b[33;43m\"\u001b[39;49m\u001b[43m,\u001b[49m\u001b[43m \u001b[49m\u001b[43mage\u001b[49m\u001b[43m=\u001b[49m\u001b[32;43m20\u001b[39;49m\u001b[43m)\u001b[49m\n",
      "\u001b[36mFile \u001b[39m\u001b[32mc:\\Users\\kanyi\\Desktop\\Module_3\\my_venv\\Lib\\site-packages\\pydantic\\main.py:250\u001b[39m, in \u001b[36mBaseModel.__init__\u001b[39m\u001b[34m(self, **data)\u001b[39m\n\u001b[32m    248\u001b[39m \u001b[38;5;66;03m# `__tracebackhide__` tells pytest and some other tools to omit this function from tracebacks\u001b[39;00m\n\u001b[32m    249\u001b[39m __tracebackhide__ = \u001b[38;5;28;01mTrue\u001b[39;00m\n\u001b[32m--> \u001b[39m\u001b[32m250\u001b[39m validated_self = \u001b[38;5;28;43mself\u001b[39;49m\u001b[43m.\u001b[49m\u001b[43m__pydantic_validator__\u001b[49m\u001b[43m.\u001b[49m\u001b[43mvalidate_python\u001b[49m\u001b[43m(\u001b[49m\u001b[43mdata\u001b[49m\u001b[43m,\u001b[49m\u001b[43m \u001b[49m\u001b[43mself_instance\u001b[49m\u001b[43m=\u001b[49m\u001b[38;5;28;43mself\u001b[39;49m\u001b[43m)\u001b[49m\n\u001b[32m    251\u001b[39m \u001b[38;5;28;01mif\u001b[39;00m \u001b[38;5;28mself\u001b[39m \u001b[38;5;129;01mis\u001b[39;00m \u001b[38;5;129;01mnot\u001b[39;00m validated_self:\n\u001b[32m    252\u001b[39m     warnings.warn(\n\u001b[32m    253\u001b[39m         \u001b[33m'\u001b[39m\u001b[33mA custom validator is returning a value other than `self`.\u001b[39m\u001b[38;5;130;01m\\n\u001b[39;00m\u001b[33m'\u001b[39m\n\u001b[32m    254\u001b[39m         \u001b[33m\"\u001b[39m\u001b[33mReturning anything other than `self` from a top level model validator isn\u001b[39m\u001b[33m'\u001b[39m\u001b[33mt supported when validating via `__init__`.\u001b[39m\u001b[38;5;130;01m\\n\u001b[39;00m\u001b[33m\"\u001b[39m\n\u001b[32m    255\u001b[39m         \u001b[33m'\u001b[39m\u001b[33mSee the `model_validator` docs (https://docs.pydantic.dev/latest/concepts/validators/#model-validators) for more details.\u001b[39m\u001b[33m'\u001b[39m,\n\u001b[32m    256\u001b[39m         stacklevel=\u001b[32m2\u001b[39m,\n\u001b[32m    257\u001b[39m     )\n",
      "\u001b[31mValidationError\u001b[39m: 1 validation error for Person\nname\n  Value error, Name must start with a capital letter [type=value_error, input_value='solomon', input_type=str]\n    For further information visit https://errors.pydantic.dev/2.12/v/value_error"
     ]
    }
   ],
   "source": [
    "Person(name=\"solomon\", age=20)"
   ]
  },
  {
   "cell_type": "markdown",
   "id": "4c4311e2",
   "metadata": {},
   "source": [
    "...Read the error message above"
   ]
  },
  {
   "cell_type": "markdown",
   "id": "29c5ccfc",
   "metadata": {},
   "source": [
    "This is the essence of Pydantic validation, `field constraints + custom validators.`"
   ]
  },
  {
   "cell_type": "code",
   "execution_count": null,
   "id": "f04f2834",
   "metadata": {},
   "outputs": [
    {
     "data": {
      "text/plain": [
       "Person(name='Solomon', age=20)"
      ]
     },
     "execution_count": 42,
     "metadata": {},
     "output_type": "execute_result"
    }
   ],
   "source": [
    "Person(name=\"Solomon\", age=20)"
   ]
  },
  {
   "cell_type": "markdown",
   "id": "e9222728",
   "metadata": {},
   "source": [
    "These types handle both validation and conversion — if the input is compatible, Pydantic converts it automatically"
   ]
  },
  {
   "cell_type": "markdown",
   "id": "ebf3b0f3",
   "metadata": {},
   "source": [
    "| Type                         | Description                               | Example                   |\n",
    "| ---------------------------- | ----------------------------------------- | ------------------------- |\n",
    "| `EmailStr`                   | Validates email address                   | `email: EmailStr`         |\n",
    "| `AnyUrl`, `HttpUrl`          | Validates URLs                            | `website: HttpUrl`        |\n",
    "| `IPv4Address`, `IPv6Address` | Validates IP addresses                    | `ip: IPv4Address`         |\n",
    "| `PaymentCardNumber`          | Validates credit card numbers             | `card: PaymentCardNumber` |\n",
    "| `UUID`                       | Validates UUIDs                           | `id: UUID`                |\n",
    "| `Decimal`                    | For exact decimal values (money, scores)  | `price: Decimal`          |\n",
    "| `FilePath`, `DirectoryPath`  | Validates existing file or directory path | `file_path: FilePath`     |\n"
   ]
  },
  {
   "cell_type": "markdown",
   "id": "8e4a5728",
   "metadata": {},
   "source": [
    "...these are string constraints...they also work with `Fields`"
   ]
  },
  {
   "cell_type": "markdown",
   "id": "d0a203ac",
   "metadata": {},
   "source": [
    "| Constraint   | Meaning            | Example                                      |\n",
    "| ------------ | ------------------ | -------------------------------------------- |\n",
    "| `min_length` | minimum characters | `name: str = Field(..., min_length=2)`       |\n",
    "| `max_length` | maximum characters | `password: str = Field(..., max_length=20)`  |\n",
    "| `pattern`      | must match pattern | `phone: str = Field(..., pattern=r'^\\d{11}$')` |\n"
   ]
  },
  {
   "cell_type": "markdown",
   "id": "a14e3363",
   "metadata": {},
   "source": [
    "more constraints"
   ]
  },
  {
   "cell_type": "markdown",
   "id": "b5dd3d5c",
   "metadata": {},
   "source": [
    "| Type / Field                    | Description                                | Example                                                                               |\n",
    "| ------------------------------- | ------------------------------------------ | ------------------------------------------------------------------------------------- |\n",
    "| `int` + `Field()`               | Constrained integer (e.g. positive, range) | `age: int = Field(..., gt=0, lt=120)`                                                 |\n",
    "| `str` + `Field()`               | Constrained string (length, regex, etc.)   | `username: str = Field(..., min_length=3, max_length=12, pattern=r\"^[A-Za-z0-9_]+$\")` |\n",
    "| `list` + `Field()`              | Constrained list (size limits)             | `scores: list[int] = Field(..., min_length=3, max_length=5)`                          |\n",
    "| `Decimal` + `Field()`           | Constrained decimal (precision, limits)    | `price: Decimal = Field(..., gt=0, max_digits=6, decimal_places=2)`                   |\n",
    "| `float` + `Field()`             | Constrained float (min, max, multiple)     | `rating: float = Field(..., ge=0, le=5, multiple_of=0.5)`                             |\n",
    "| `bool` + `Field()`              | Boolean with default or description        | `is_active: bool = Field(default=True, description=\"User is active\")`                 |\n",
    "| `date` / `datetime` + `Field()` | Date/time validation                       | `created_at: datetime = Field(default_factory=datetime.now)`                       |\n"
   ]
  },
  {
   "cell_type": "code",
   "execution_count": null,
   "id": "ddea7e04",
   "metadata": {},
   "outputs": [],
   "source": [
    "from datetime import datetime\n",
    "from decimal import Decimal \n",
    "from pydantic import BaseModel, Field, ValidationError\n",
    "from typing import List\n",
    "\n",
    "# Lets create the model here\n",
    "\n",
    "class ProductReview(BaseModel):\n",
    "    review_id: int = Field(..., gt=0, lt=10000)\n",
    "    username: str = Field(..., min_length=3, max_length=12, pattern=r\"[A-Za-z0-9_]+$\")\n",
    "    scores: List[int] = Field(..., min_length=3, max_length=5)\n",
    "    price: Decimal = Field(..., gt=0, max_digits=6, decimal_places=2)\n",
    "    rating: float = Field(..., ge=0, le=5, multiple_of=0.5)\n",
    "    is_active: bool = Field(default=False)\n",
    "    created_at: datetime = Field(default_factory=datetime.now)"
   ]
  },
  {
   "cell_type": "code",
   "execution_count": null,
   "id": "8ae580b4",
   "metadata": {},
   "outputs": [],
   "source": [
    "# Lets demo for each\n",
    "def demo_int_field():\n",
    "    print(\"Integer Field Validation\")\n",
    "    try:\n",
    "        ProductReview(review_id= -2, username=\"shabi\", scores=[4,5,4], price=Decimal(\"10.00\"), rating=4.5)\n",
    "    except ValidationError as e:\n",
    "        print(e)"
   ]
  },
  {
   "cell_type": "code",
   "execution_count": null,
   "id": "c37b7543",
   "metadata": {},
   "outputs": [
    {
     "name": "stdout",
     "output_type": "stream",
     "text": [
      "Integer Field Validation\n",
      "1 validation error for ProductReview\n",
      "review_id\n",
      "  Input should be greater than 0 [type=greater_than, input_value=-2, input_type=int]\n",
      "    For further information visit https://errors.pydantic.dev/2.12/v/greater_than\n"
     ]
    }
   ],
   "source": [
    "demo_int_field()"
   ]
  },
  {
   "cell_type": "code",
   "execution_count": null,
   "id": "8744cad6",
   "metadata": {},
   "outputs": [],
   "source": [
    "# fix the error (-2) to (2)\n",
    "def demo_int_field():\n",
    "    print(\"Integer Field Validation\")\n",
    "    try:\n",
    "        ProductReview(review_id= 2, username=\"shabi\", scores=[4,5,4], price=Decimal(\"10.00\"), rating=4.5)\n",
    "    except ValidationError as e:\n",
    "        print(e)"
   ]
  },
  {
   "cell_type": "code",
   "execution_count": null,
   "id": "c18e6123",
   "metadata": {},
   "outputs": [
    {
     "name": "stdout",
     "output_type": "stream",
     "text": [
      "Integer Field Validation\n"
     ]
    }
   ],
   "source": [
    "demo_int_field()"
   ]
  },
  {
   "cell_type": "code",
   "execution_count": null,
   "id": "717f69b1",
   "metadata": {},
   "outputs": [],
   "source": [
    "def demo_str_field():\n",
    "    print(\"String Field Validation\")\n",
    "    try:\n",
    "        ProductReview(review_id=1, username=\"A$\", scores=[4, 5, 5], price=Decimal(\"20.00\"), rating=4.0)\n",
    "    except ValidationError as e:\n",
    "        print(e)"
   ]
  },
  {
   "cell_type": "code",
   "execution_count": null,
   "id": "f98fd5d3",
   "metadata": {},
   "outputs": [
    {
     "name": "stdout",
     "output_type": "stream",
     "text": [
      "String Field Validation\n",
      "1 validation error for ProductReview\n",
      "username\n",
      "  String should have at least 3 characters [type=string_too_short, input_value='A$', input_type=str]\n",
      "    For further information visit https://errors.pydantic.dev/2.12/v/string_too_short\n"
     ]
    }
   ],
   "source": [
    "demo_str_field()"
   ]
  },
  {
   "cell_type": "code",
   "execution_count": null,
   "id": "5285e932",
   "metadata": {},
   "outputs": [],
   "source": [
    "# Fix the error for the str field\n",
    "def demo_str_field():\n",
    "    print(\"String Field Validation\")\n",
    "    try:\n",
    "        ProductReview(review_id=1, username=\"Ash\", scores=[4, 5, 5], price=Decimal(\"20.00\"), rating=4.0)\n",
    "    except ValidationError as e:\n",
    "        print(e)"
   ]
  },
  {
   "cell_type": "code",
   "execution_count": null,
   "id": "9ae6f5b5",
   "metadata": {},
   "outputs": [
    {
     "name": "stdout",
     "output_type": "stream",
     "text": [
      "String Field Validation\n"
     ]
    }
   ],
   "source": [
    "demo_str_field()"
   ]
  },
  {
   "cell_type": "code",
   "execution_count": null,
   "id": "a397cd29",
   "metadata": {},
   "outputs": [],
   "source": [
    "def demo_list_field():\n",
    "    print(\"\\n List Field Validation\")\n",
    "    try:\n",
    "        ProductReview(review_id=2, username=\"ChrisDev\", scores=[5], price=Decimal(\"30.00\"), rating=3.5)\n",
    "    except ValidationError as e:\n",
    "        print(e)"
   ]
  },
  {
   "cell_type": "code",
   "execution_count": null,
   "id": "d5e04fd2",
   "metadata": {},
   "outputs": [
    {
     "name": "stdout",
     "output_type": "stream",
     "text": [
      "\n",
      " List Field Validation\n",
      "1 validation error for ProductReview\n",
      "scores\n",
      "  List should have at least 3 items after validation, not 1 [type=too_short, input_value=[5], input_type=list]\n",
      "    For further information visit https://errors.pydantic.dev/2.12/v/too_short\n"
     ]
    }
   ],
   "source": [
    "demo_list_field()"
   ]
  },
  {
   "cell_type": "code",
   "execution_count": null,
   "id": "d7cbbf1c",
   "metadata": {},
   "outputs": [],
   "source": [
    "# Fixing the error\n",
    "def demo_list_field():\n",
    "    print(\"\\n List Field Validation\")\n",
    "    try:\n",
    "        ProductReview(review_id=2, username=\"ChrisDev\", scores=[5, 0, 9], price=Decimal(\"30.00\"), rating=3.5)\n",
    "    except ValidationError as e:\n",
    "        print(e)"
   ]
  },
  {
   "cell_type": "code",
   "execution_count": null,
   "id": "9e9e8ada",
   "metadata": {},
   "outputs": [
    {
     "name": "stdout",
     "output_type": "stream",
     "text": [
      "\n",
      " List Field Validation\n"
     ]
    }
   ],
   "source": [
    "demo_list_field()"
   ]
  },
  {
   "cell_type": "code",
   "execution_count": null,
   "id": "050c46ab",
   "metadata": {},
   "outputs": [],
   "source": [
    "def demo_decimal_field():\n",
    "    print(\"\\n Decimal Field Validation\")\n",
    "    try:\n",
    "        ProductReview(review_id=3, username=\"Tester\", scores=[4, 4, 5], price=Decimal(\"-10.00\"), rating=4.5)\n",
    "    except ValidationError as e:\n",
    "        print(e)"
   ]
  },
  {
   "cell_type": "code",
   "execution_count": null,
   "id": "73d46fdf",
   "metadata": {},
   "outputs": [
    {
     "name": "stdout",
     "output_type": "stream",
     "text": [
      "\n",
      " Decimal Field Validation\n",
      "1 validation error for ProductReview\n",
      "price\n",
      "  Input should be greater than 0 [type=greater_than, input_value=Decimal('-10.00'), input_type=Decimal]\n",
      "    For further information visit https://errors.pydantic.dev/2.12/v/greater_than\n"
     ]
    }
   ],
   "source": [
    "demo_decimal_field()"
   ]
  },
  {
   "cell_type": "code",
   "execution_count": null,
   "id": "68887471",
   "metadata": {},
   "outputs": [],
   "source": [
    "# Fix the error\n",
    "def demo_decimal_field():\n",
    "    print(\"\\n Decimal Field Validation\")\n",
    "    try:\n",
    "        ProductReview(review_id=3, username=\"Tester\", scores=[4, 4, 5], price=Decimal(\"10.00\"), rating=4.5)\n",
    "    except ValidationError as e:\n",
    "        print(e)"
   ]
  },
  {
   "cell_type": "code",
   "execution_count": null,
   "id": "29ec9bce",
   "metadata": {},
   "outputs": [
    {
     "name": "stdout",
     "output_type": "stream",
     "text": [
      "\n",
      " Decimal Field Validation\n"
     ]
    }
   ],
   "source": [
    "demo_decimal_field()"
   ]
  },
  {
   "cell_type": "code",
   "execution_count": null,
   "id": "dad0fc7b",
   "metadata": {},
   "outputs": [],
   "source": [
    "def demo_float_field():\n",
    "    print(\"\\n Float Field Validation\")\n",
    "    try:\n",
    "        ProductReview(review_id=4, username=\"SmartDev\", scores=[5, 4, 4], price=Decimal(\"99.99\"), rating=4.3)\n",
    "    except ValidationError as e:\n",
    "        print(e)"
   ]
  },
  {
   "cell_type": "code",
   "execution_count": null,
   "id": "5ee29e33",
   "metadata": {},
   "outputs": [
    {
     "name": "stdout",
     "output_type": "stream",
     "text": [
      "\n",
      " Float Field Validation\n",
      "1 validation error for ProductReview\n",
      "rating\n",
      "  Input should be a multiple of 0.5 [type=multiple_of, input_value=4.3, input_type=float]\n",
      "    For further information visit https://errors.pydantic.dev/2.12/v/multiple_of\n"
     ]
    }
   ],
   "source": [
    "demo_float_field()"
   ]
  },
  {
   "cell_type": "code",
   "execution_count": null,
   "id": "a6aae4ef",
   "metadata": {},
   "outputs": [],
   "source": [
    "# Lets fix the error\n",
    "def demo_float_field():\n",
    "    print(\"\\n Float Field Validation\")\n",
    "    try:\n",
    "        ProductReview(review_id=4, username=\"SmartDev\", scores=[5, 4, 4], price=Decimal(\"99.99\"), rating=4.5)\n",
    "    except ValidationError as e:\n",
    "        print(e)"
   ]
  },
  {
   "cell_type": "code",
   "execution_count": null,
   "id": "ed2dbbb0",
   "metadata": {},
   "outputs": [
    {
     "name": "stdout",
     "output_type": "stream",
     "text": [
      "\n",
      " Float Field Validation\n"
     ]
    }
   ],
   "source": [
    "demo_float_field()"
   ]
  },
  {
   "cell_type": "code",
   "execution_count": null,
   "id": "b11e6697",
   "metadata": {},
   "outputs": [],
   "source": [
    "def demo_bool_field():\n",
    "    print(\"\\n Boolean Field Default\")\n",
    "    product = ProductReview(\n",
    "        review_id=5,\n",
    "        username=\"JaneDoe\",\n",
    "        scores=[5, 4, 5],\n",
    "        price=Decimal(\"59.99\"),\n",
    "        rating=5.0\n",
    "    )\n",
    "    print(\"is_active =\", product.is_active)"
   ]
  },
  {
   "cell_type": "code",
   "execution_count": null,
   "id": "08323475",
   "metadata": {},
   "outputs": [
    {
     "name": "stdout",
     "output_type": "stream",
     "text": [
      "\n",
      " Boolean Field Default\n",
      "is_active = False\n"
     ]
    }
   ],
   "source": [
    "demo_bool_field()"
   ]
  },
  {
   "cell_type": "code",
   "execution_count": null,
   "id": "d35cdd3f",
   "metadata": {},
   "outputs": [],
   "source": [
    "def demo_datetime_field():\n",
    "    print(\"\\n Datetime Default Factory\")\n",
    "    product = ProductReview(\n",
    "        review_id=6,\n",
    "        username=\"TimeUser\",\n",
    "        scores=[3, 4, 5],\n",
    "        price=Decimal(\"25.00\"),\n",
    "        rating=4.5\n",
    "    )\n",
    "    print(\"created_at =\", product.created_at)"
   ]
  },
  {
   "cell_type": "code",
   "execution_count": null,
   "id": "f1652a10",
   "metadata": {},
   "outputs": [
    {
     "name": "stdout",
     "output_type": "stream",
     "text": [
      "\n",
      " Datetime Default Factory\n",
      "created_at = 2025-10-15 15:27:02.602875\n"
     ]
    }
   ],
   "source": [
    "demo_datetime_field()"
   ]
  }
 ],
 "metadata": {
  "kernelspec": {
   "display_name": "my_venv",
   "language": "python",
   "name": "python3"
  },
  "language_info": {
   "codemirror_mode": {
    "name": "ipython",
    "version": 3
   },
   "file_extension": ".py",
   "mimetype": "text/x-python",
   "name": "python",
   "nbconvert_exporter": "python",
   "pygments_lexer": "ipython3",
   "version": "3.13.8"
  }
 },
 "nbformat": 4,
 "nbformat_minor": 5
}
