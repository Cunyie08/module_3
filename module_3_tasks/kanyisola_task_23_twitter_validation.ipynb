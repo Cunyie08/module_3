{
 "cells": [
  {
   "cell_type": "markdown",
   "id": "47373a71",
   "metadata": {},
   "source": [
    "### Twitter username and post validation using custom validation"
   ]
  },
  {
   "cell_type": "code",
   "execution_count": 9,
   "id": "3952a3a7",
   "metadata": {},
   "outputs": [],
   "source": [
    "from datetime import datetime\n",
    "from decimal import Decimal\n",
    "from pydantic import BaseModel, Field, ValidationError, field_validator\n",
    "from typing import List\n",
    "\n",
    "# Lets create the twitter model\n",
    "class TwitterUsername(BaseModel):\n",
    "        \"\"\"\n",
    "        Username cannot be Admin or Twitter. It only allows (_), special characters not allowed.\n",
    "        Maximum length of username is 15 and minimum length is 4.      \n",
    "        Twitter character limit is 280 for free accounts and 25,000 for premium accounts.\n",
    "        \"\"\"\n",
    "        #\n",
    "        username: str = Field(..., min_length=4, max_length=15, pattern=r\"^[A-Za-z0-9_]+$\", )\n",
    "        # Checking username doesn't have Admin and twitter using decorator\n",
    "        @field_validator(\"username\")\n",
    "        def username_cannot_be(cls, v):\n",
    "                if v.lower() in {'admin', 'twitter'}:\n",
    "                        raise ValueError(\"Username cannot be Admin or Twitter\")\n",
    "                return v\n",
    "        free_account_post_length: str = Field(..., min_length=1, max_length=280, pattern=r\"^[\\s\\S]+$\")\n",
    "        premium_account_post_length: str = Field(..., min_length=1, max_length=25000, pattern=r\"^[\\s\\S]+$\")\n",
    "        is_active: bool = Field(default=True)\n",
    "        created_at: datetime = Field(default_factory=datetime.now)\n",
    "\n",
    "\n",
    "\n"
   ]
  },
  {
   "cell_type": "code",
   "execution_count": 10,
   "id": "35171913",
   "metadata": {},
   "outputs": [],
   "source": [
    "# Creating a demo for each variable using twitter as the username more than 280 characters\n",
    "def demo_str_field():\n",
    "    print(\"Twitter Field Validation\")\n",
    "    try:\n",
    "        TwitterUsername(\n",
    "            \n",
    "            username=\"twitter\",\n",
    "\n",
    "            free_account_post_length=\"Pydantic like typing is used to build a structured, type-safe data models.,\" \\\n",
    "            \" It uses these type hints to validate,serialize, parse and structure data automatically.,\" \\\n",
    "            \"In simple terms, It takes messy or untrusted data like API input, JSON or form data and checks that it matches your type definitions. ,\" \\\n",
    "            \"Now if the data type doesnt match, pydantic raises an error with a clear explanation.\", \n",
    "\n",
    "            premium_account_post_length=\"Pydantic like typing is used to build a structured, type-safe data models.,\" \\\n",
    "            \" It uses these type hints to validate,serialize, parse and structure data automatically.,\" \\\n",
    "            \"In simple terms, It takes messy or untrusted data like API input, JSON or form data and checks that it matches your type definitions. ,\" \\\n",
    "            \"Now if the data type doesnt match, pydantic raises an error with a clear explanation.\"\n",
    "                )\n",
    "    except ValidationError as e:\n",
    "        print(e)"
   ]
  },
  {
   "cell_type": "code",
   "execution_count": 11,
   "id": "6c5e13ab",
   "metadata": {},
   "outputs": [
    {
     "name": "stdout",
     "output_type": "stream",
     "text": [
      "Twitter Field Validation\n",
      "2 validation errors for TwitterUsername\n",
      "username\n",
      "  Value error, Username cannot be Admin or Twitter [type=value_error, input_value='twitter', input_type=str]\n",
      "    For further information visit https://errors.pydantic.dev/2.12/v/value_error\n",
      "free_account_post_length\n",
      "  String should have at most 280 characters [type=string_too_long, input_value='Pydantic like typing is ...th a clear explanation.', input_type=str]\n",
      "    For further information visit https://errors.pydantic.dev/2.12/v/string_too_long\n"
     ]
    }
   ],
   "source": [
    "# Let's check the validation\n",
    "demo_str_field() \n",
    "# returns error because the user name cannot be 'twitter' and the free_account cannot exceed 280 word limit"
   ]
  },
  {
   "cell_type": "code",
   "execution_count": 12,
   "id": "0b7270da",
   "metadata": {},
   "outputs": [],
   "source": [
    "# Creating a demo for each variable\n",
    "def demo_str_field():\n",
    "    print(\"Twitter Field Validation\")\n",
    "    try:\n",
    "        TwitterUsername(username=\"Mr_chris\", \n",
    "                free_account_post_length=\"Pydantic like typing is used to build a structured, type-safe data models.,\" \\\n",
    "                \" It uses these type hints to validate,serialize, parse and structure data automatically.,\", \n",
    "\n",
    "                premium_account_post_length=\"Pydantic like typing is used to build a structured, type-safe data models.,\" \\\n",
    "                \" It uses these type hints to validate,serialize, parse and structure data automatically.,\" \\\n",
    "                \"In simple terms, It takes messy or untrusted data like API input, JSON or form data and checks that it matches your type definitions. ,\" \\\n",
    "                \"Now if the data type doesnt match, pydantic raises an error with a clear explanation.\")\n",
    "    except ValidationError as e:\n",
    "        print(e)"
   ]
  },
  {
   "cell_type": "code",
   "execution_count": 13,
   "id": "37fc02ef",
   "metadata": {},
   "outputs": [
    {
     "name": "stdout",
     "output_type": "stream",
     "text": [
      "Twitter Field Validation\n"
     ]
    }
   ],
   "source": [
    "# Let's check the validation\n",
    "demo_str_field() \n",
    "# all fields are validated"
   ]
  },
  {
   "cell_type": "code",
   "execution_count": 14,
   "id": "820cadbb",
   "metadata": {},
   "outputs": [],
   "source": [
    "# Creating a demo to validate the bool\n",
    "def demo_bool_field():\n",
    "    print(\"\\n Boolean Field Default\")\n",
    "    account = TwitterUsername(\n",
    "        username=\"Mr_chris\", \n",
    "        free_account_post_length=\"Pydantic like typing is used to build a structured, type-safe data models.,\" \\\n",
    "        \" It uses these type hints to validate,serialize, parse and structure data automatically.,\", \n",
    "\n",
    "        premium_account_post_length=\"Pydantic like typing is used to build a structured, type-safe data models.,\" \\\n",
    "        \" It uses these type hints to validate,serialize, parse and structure data automatically.,\" \\\n",
    "        \"In simple terms, It takes messy or untrusted data like API input, JSON or form data and checks that it matches your type definitions. ,\" \\\n",
    "        \"Now if the data type doesnt match, pydantic raises an error with a clear explanation.\"\n",
    "    )\n",
    "    print(\"is_active =\", account.is_active)\n"
   ]
  },
  {
   "cell_type": "code",
   "execution_count": 15,
   "id": "bb5c9239",
   "metadata": {},
   "outputs": [
    {
     "name": "stdout",
     "output_type": "stream",
     "text": [
      "\n",
      " Boolean Field Default\n",
      "is_active = True\n"
     ]
    }
   ],
   "source": [
    "# bool field validation\n",
    "demo_bool_field()"
   ]
  },
  {
   "cell_type": "code",
   "execution_count": 16,
   "id": "d45bc30c",
   "metadata": {},
   "outputs": [
    {
     "name": "stdout",
     "output_type": "stream",
     "text": [
      "\n",
      " Boolean Field Default\n",
      "Created at = 2025-10-16 02:45:32.740548\n"
     ]
    }
   ],
   "source": [
    "# Checking the time the demo was created\n",
    "def demo_datetime_field():\n",
    "    print(\"\\n Boolean Field Default\")\n",
    "    account = TwitterUsername(\n",
    "        username=\"Mr_chris\", \n",
    "        free_account_post_length=\"Pydantic like typing is used to build a structured, type-safe data models.,\" \\\n",
    "        \" It uses these type hints to validate,serialize, parse and structure data automatically.,\", \n",
    "\n",
    "        premium_account_post_length=\"Pydantic like typing is used to build a structured, type-safe data models.,\" \\\n",
    "        \" It uses these type hints to validate,serialize, parse and structure data automatically.,\" \\\n",
    "        \"In simple terms, It takes messy or untrusted data like API input, JSON or form data and checks that it matches your type definitions. ,\" \\\n",
    "        \"Now if the data type doesnt match, pydantic raises an error with a clear explanation.\"\n",
    "    )\n",
    "    print(\"Created at =\", account.created_at)\n",
    "\n",
    "demo_datetime_field()"
   ]
  }
 ],
 "metadata": {
  "kernelspec": {
   "display_name": "my_venv",
   "language": "python",
   "name": "python3"
  },
  "language_info": {
   "codemirror_mode": {
    "name": "ipython",
    "version": 3
   },
   "file_extension": ".py",
   "mimetype": "text/x-python",
   "name": "python",
   "nbconvert_exporter": "python",
   "pygments_lexer": "ipython3",
   "version": "3.13.8"
  }
 },
 "nbformat": 4,
 "nbformat_minor": 5
}
